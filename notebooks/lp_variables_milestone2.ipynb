{
 "cells": [
  {
   "cell_type": "markdown",
   "id": "786b2560-e31d-4cec-9958-9311c591ea99",
   "metadata": {},
   "source": [
    "# Milestone 2"
   ]
  },
  {
   "cell_type": "markdown",
   "id": "e644219d-1348-440b-be0a-b44de42255dc",
   "metadata": {},
   "source": [
    "### Integer type"
   ]
  },
  {
   "cell_type": "code",
   "execution_count": null,
   "id": "3860f0d9-9a7c-4881-997b-ff60f85f612d",
   "metadata": {},
   "outputs": [],
   "source": [
    "# Integer variables act like containers (immutable)\n",
    "\n",
    "a_int = 3\n",
    "b_int = a_int\n",
    "\n",
    "b_int = 2\n",
    "\n",
    "print(f\"a_int: {a_int}, a_int_id: {id(a_int)}\")\n",
    "print(f\"b_int: {b_int}, b_int_id: {id(b_int)}\")"
   ]
  },
  {
   "cell_type": "markdown",
   "id": "3f1d2849-a4cc-494f-8c05-e7e62b17a6b9",
   "metadata": {},
   "source": [
    "### Float type"
   ]
  },
  {
   "cell_type": "code",
   "execution_count": null,
   "id": "1816e077-7d76-43fa-bb67-467c15544b6c",
   "metadata": {},
   "outputs": [],
   "source": [
    "# Float variables act like containers (immutable)\n",
    "\n",
    "a_float = 3.0\n",
    "b_float = a_float\n",
    "\n",
    "b_float = 2.0\n",
    "\n",
    "print(f\"a_float: {a_float}, a_float_id: {id(a_float)}\")\n",
    "print(f\"b_float: {b_float}, b_float_id: {id(b_float)}\")"
   ]
  },
  {
   "cell_type": "markdown",
   "id": "71318063-f8c2-4663-89db-cb02fc32ed53",
   "metadata": {},
   "source": [
    "### String type"
   ]
  },
  {
   "cell_type": "code",
   "execution_count": null,
   "id": "5705658f-767e-432a-aefe-5d4cdcca3cf4",
   "metadata": {},
   "outputs": [],
   "source": [
    "# String variables act like containers (immutable)\n",
    "\n",
    "a_str = 'hello'\n",
    "b_str = a_str\n",
    "\n",
    "b_str = 'world'\n",
    "\n",
    "print(f\"a_str: {a_str}, a_str_id: {id(a_str)}\")\n",
    "print(f\"b_str: {b_str}, b_str_id: {id(b_str)}\")"
   ]
  },
  {
   "cell_type": "markdown",
   "id": "b9051c4e-3198-4ce6-b2f2-6804899ea7c4",
   "metadata": {},
   "source": [
    "### List type"
   ]
  },
  {
   "cell_type": "code",
   "execution_count": null,
   "id": "e49d36c6-d50e-4d64-82ed-d4f3ce369c89",
   "metadata": {},
   "outputs": [],
   "source": [
    "# List variables are labels (mutable)\n",
    "\n",
    "a_list = [1, 2, 3]\n",
    "b_list = a_list\n",
    "\n",
    "b_list[0] = 2\n",
    "\n",
    "print(f\"a_list: {a_list}, a_list_id: {id(a_list)}\")\n",
    "print(f\"b_list: {b_list}, b_list_id: {id(b_list)}\")"
   ]
  },
  {
   "cell_type": "markdown",
   "id": "f2d15971-b65f-4e00-9ec8-52fd6b8d37c1",
   "metadata": {},
   "source": [
    "#### Assign to new list object"
   ]
  },
  {
   "cell_type": "code",
   "execution_count": null,
   "id": "c6b17c15-2cba-4efc-9ee0-cb44d1b4f1b6",
   "metadata": {},
   "outputs": [],
   "source": [
    "b_list = [4, 5, 6]\n",
    "\n",
    "print(f\"a_list: {a_list}, a_list_id: {id(a_list)}\")\n",
    "print(f\"b_list: {b_list}, b_list_id: {id(b_list)}\")"
   ]
  },
  {
   "cell_type": "markdown",
   "id": "eb2dd5eb-8f6d-400c-8944-512272bf904a",
   "metadata": {},
   "source": [
    "### Tuple type"
   ]
  },
  {
   "cell_type": "code",
   "execution_count": null,
   "id": "c37a36df-ab78-4af8-b551-56e3306c3dcc",
   "metadata": {},
   "outputs": [],
   "source": [
    "# Tuple variables are immutable\n",
    "\n",
    "a_tuple = 1, 2, 3\n",
    "b_tuple = a_tuple\n",
    "\n",
    "b_tuple[0] = 4\n",
    "\n",
    "print(f\"a_tuple: {a_tuple}, a_tuple_id: {id(a_tuple)}\")\n",
    "print(f\"b_tuple: {b_tuple}, b_tuple_id: {id(b_tuple)}\")"
   ]
  },
  {
   "cell_type": "markdown",
   "id": "6b678ce8-a5e2-4d57-8c04-2e68ac7bf7b9",
   "metadata": {},
   "source": [
    "### Dict type"
   ]
  },
  {
   "cell_type": "code",
   "execution_count": null,
   "id": "31e2f4e6-dcc2-44b8-9e1f-07dcc8b4d837",
   "metadata": {},
   "outputs": [],
   "source": [
    "# Dict variables are labels (mutable)\n",
    "\n",
    "a_dict = {'a': 1, 'b': 2}\n",
    "b_dict = a_dict\n",
    "\n",
    "b_dict['a'] = 3\n",
    "\n",
    "print(f\"a_dict: {a_dict}, a_dict_id: {id(a_dict)}\")\n",
    "print(f\"b_dict: {b_dict}, b_dict_id: {id(b_dict)}\")"
   ]
  },
  {
   "cell_type": "markdown",
   "id": "92db67b7-de14-4cbd-8283-450122f517a1",
   "metadata": {},
   "source": [
    "#### Assign to a new dict object"
   ]
  },
  {
   "cell_type": "code",
   "execution_count": null,
   "id": "f835308d-88d4-4010-9b12-88a45134f9c0",
   "metadata": {},
   "outputs": [],
   "source": [
    "b_dict = {'y': 25, 'z': 26}\n",
    "\n",
    "print(f\"a_dict: {a_dict}, a_dict_id: {id(a_dict)}\")\n",
    "print(f\"b_dict: {b_dict}, b_dict_id: {id(b_dict)}\")"
   ]
  },
  {
   "cell_type": "code",
   "execution_count": null,
   "id": "67fa3f27-d1bd-4076-87af-3f2c5a85f057",
   "metadata": {},
   "outputs": [],
   "source": []
  }
 ],
 "metadata": {
  "kernelspec": {
   "display_name": "Python 3 (ipykernel)",
   "language": "python",
   "name": "python3"
  },
  "language_info": {
   "codemirror_mode": {
    "name": "ipython",
    "version": 3
   },
   "file_extension": ".py",
   "mimetype": "text/x-python",
   "name": "python",
   "nbconvert_exporter": "python",
   "pygments_lexer": "ipython3",
   "version": "3.10.0"
  }
 },
 "nbformat": 4,
 "nbformat_minor": 5
}
