{
 "cells": [
  {
   "cell_type": "markdown",
   "id": "786b2560-e31d-4cec-9958-9311c591ea99",
   "metadata": {},
   "source": [
    "# Milestone 1"
   ]
  },
  {
   "cell_type": "markdown",
   "id": "e644219d-1348-440b-be0a-b44de42255dc",
   "metadata": {},
   "source": [
    "### Integer type"
   ]
  },
  {
   "cell_type": "code",
   "execution_count": null,
   "id": "17ca82e6-b61b-494d-9ea3-cdd43f7dcef5",
   "metadata": {},
   "outputs": [],
   "source": [
    "a_int = 3\n",
    "b_int = a_int\n",
    "\n",
    "b_int = 2\n",
    "\n",
    "print(f\"a_int: {a_int}, b_int: {b_int}\")"
   ]
  },
  {
   "cell_type": "markdown",
   "id": "3f1d2849-a4cc-494f-8c05-e7e62b17a6b9",
   "metadata": {},
   "source": [
    "### Float type"
   ]
  },
  {
   "cell_type": "code",
   "execution_count": null,
   "id": "a483cb52-0279-47c0-9ef4-17f8a8758a55",
   "metadata": {},
   "outputs": [],
   "source": [
    "a_float = 3.0\n",
    "b_float = a_float\n",
    "\n",
    "b_float = 2.0\n",
    "\n",
    "print(f\"a_float: {a_float}, b_float: {b_float}\")"
   ]
  },
  {
   "cell_type": "markdown",
   "id": "71318063-f8c2-4663-89db-cb02fc32ed53",
   "metadata": {},
   "source": [
    "### String type"
   ]
  },
  {
   "cell_type": "code",
   "execution_count": null,
   "id": "0dc76c26-9acc-4896-848d-9acec7fa8051",
   "metadata": {},
   "outputs": [],
   "source": [
    "a_str = 'hello'\n",
    "b_str = a_str\n",
    "\n",
    "b_str = 'world'\n",
    "\n",
    "print(f\"a_str: {a_str}, b_str: {b_str}\")"
   ]
  },
  {
   "cell_type": "markdown",
   "id": "b9051c4e-3198-4ce6-b2f2-6804899ea7c4",
   "metadata": {},
   "source": [
    "### List type"
   ]
  },
  {
   "cell_type": "code",
   "execution_count": null,
   "id": "113a05d4-a9df-478a-8131-18672cd6477f",
   "metadata": {},
   "outputs": [],
   "source": [
    "a_list = [1, 2, 3]\n",
    "b_list = a_list\n",
    "\n",
    "b_list[0] = 2\n",
    "\n",
    "print(f\"a_list: {a_list}, b_list: {b_list}\")"
   ]
  },
  {
   "cell_type": "markdown",
   "id": "f2d15971-b65f-4e00-9ec8-52fd6b8d37c1",
   "metadata": {},
   "source": [
    "#### Assign to new list object"
   ]
  },
  {
   "cell_type": "code",
   "execution_count": null,
   "id": "498d4177-c5dd-4ee4-8479-f531ca39a6fc",
   "metadata": {},
   "outputs": [],
   "source": [
    "b_list = [4, 5, 6]\n",
    "\n",
    "print(f\"a_list: {a_list}, b_list: {b_list}\")"
   ]
  },
  {
   "cell_type": "markdown",
   "id": "eb2dd5eb-8f6d-400c-8944-512272bf904a",
   "metadata": {},
   "source": [
    "### Tuple type"
   ]
  },
  {
   "cell_type": "code",
   "execution_count": null,
   "id": "2edc8eb7-d5b8-47fb-a964-b802256ecd16",
   "metadata": {},
   "outputs": [],
   "source": [
    "a_tuple = 1, 2, 3\n",
    "b_tuple = a_tuple\n",
    "\n",
    "print(f\"a_tuple: {a_tuple}, b_tuple: {b_tuple}\")"
   ]
  },
  {
   "cell_type": "markdown",
   "id": "6b678ce8-a5e2-4d57-8c04-2e68ac7bf7b9",
   "metadata": {},
   "source": [
    "### Dict type"
   ]
  },
  {
   "cell_type": "code",
   "execution_count": null,
   "id": "d2d36077-c405-4037-a4f0-c88e5827e6e2",
   "metadata": {},
   "outputs": [],
   "source": [
    "a_dict = {'a': 1, 'b': 2}\n",
    "b_dict = a_dict\n",
    "\n",
    "b_dict['a'] = 3\n",
    "\n",
    "print(f\"a_dict: {a_dict}, b_dict: {b_dict}\")"
   ]
  },
  {
   "cell_type": "markdown",
   "id": "92db67b7-de14-4cbd-8283-450122f517a1",
   "metadata": {},
   "source": [
    "#### Assign to a new dict object"
   ]
  },
  {
   "cell_type": "code",
   "execution_count": null,
   "id": "0ab2e5a0-9f38-46c9-ba26-70114c62a365",
   "metadata": {},
   "outputs": [],
   "source": [
    "b_dict = {'y': 25, 'z': 26}\n",
    "\n",
    "print(f\"a_dict: {a_dict}, b_dict: {b_dict}\")"
   ]
  }
 ],
 "metadata": {
  "kernelspec": {
   "display_name": "Python 3 (ipykernel)",
   "language": "python",
   "name": "python3"
  },
  "language_info": {
   "codemirror_mode": {
    "name": "ipython",
    "version": 3
   },
   "file_extension": ".py",
   "mimetype": "text/x-python",
   "name": "python",
   "nbconvert_exporter": "python",
   "pygments_lexer": "ipython3",
   "version": "3.10.0"
  }
 },
 "nbformat": 4,
 "nbformat_minor": 5
}
